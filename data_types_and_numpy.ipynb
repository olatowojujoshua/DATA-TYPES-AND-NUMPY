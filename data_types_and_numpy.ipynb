{
 "cells": [
  {
   "cell_type": "markdown",
   "metadata": {},
   "source": [
    "# 🧠 Data Types in Python\n",
    "Explore different data types and conversions in Python."
   ]
  },
  {
   "cell_type": "code",
   "metadata": {},
   "source": [
    "x = 10\n",
    "y = 3.5\n",
    "name = 'Joshua'\n",
    "is_valid = True\n",
    "print(type(x), type(y), type(name), type(is_valid))"
   ]
  },
  {
   "cell_type": "markdown",
   "metadata": {},
   "source": [
    "# 🔢 NumPy Basics\n",
    "Create arrays and perform operations."
   ]
  },
  {
   "cell_type": "code",
   "metadata": {},
   "source": [
    "import numpy as np\n",
    "arr = np.array([1, 2, 3, 4, 5])\n",
    "print('Array:', arr)\n",
    "print('Mean:', np.mean(arr))"
   ]
  }
 ],
 "metadata": {},
 "nbformat": 4,
 "nbformat_minor": 2
}
