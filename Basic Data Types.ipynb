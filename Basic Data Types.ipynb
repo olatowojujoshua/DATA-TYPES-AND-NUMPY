{
 "cells": [
  {
   "cell_type": "markdown",
   "id": "ce052dd9-b636-4544-852d-eba4ae0f1703",
   "metadata": {},
   "source": [
    "## Basic Data Types in Python\n",
    "Author: W.P"
   ]
  },
  {
   "cell_type": "code",
   "execution_count": 1,
   "id": "1e8aaedd-fbd4-4d07-9c8e-9a9d756fa9f7",
   "metadata": {},
   "outputs": [],
   "source": [
    "x1 = 3\n",
    "x2 = 3.1\n",
    "x3 = \"This is a string and it's also a sequential data type\" \n",
    "x4 = [1,12,3,3]\n",
    "x5 = {'name':'test'}\n",
    "x6 = True"
   ]
  },
  {
   "cell_type": "code",
   "execution_count": 4,
   "id": "7a8672f9-9613-49f5-b812-b3027b559f17",
   "metadata": {},
   "outputs": [
    {
     "name": "stdout",
     "output_type": "stream",
     "text": [
      "<class 'int'>\n",
      "<class 'float'>\n",
      "<class 'str'>\n",
      "<class 'list'>\n",
      "<class 'dict'>\n",
      "<class 'bool'>\n"
     ]
    }
   ],
   "source": [
    "print(type(x1))\n",
    "print(type(x2))\n",
    "print(type(x3))\n",
    "print(type(x4))\n",
    "print(type(x5))\n",
    "print(type(x6))"
   ]
  },
  {
   "cell_type": "markdown",
   "id": "d7bd6fa7-6318-40e0-ade9-7f82ed0837d3",
   "metadata": {},
   "source": [
    "## Sequential Data Types in Python -- Also known as Python Collections (similar to arrays)\n",
    "\n",
    "There are **four** main collection data types in the Python programming language:\n",
    "\n",
    "1) **List** is a collection which is ordered and changeable. Allows duplicate members.\n",
    "2) **Tuple** is a collection which is ordered and unchangeable. Allows duplicate members.\n",
    "3) **Set** is a collection which is unordered and not indexed. No duplicate members.\n",
    "4) **Dictionary** is a collection which is ordered* and changeable. No duplicate members.\n",
    "\n"
   ]
  },
  {
   "cell_type": "markdown",
   "id": "9f94e6a8-7dd7-4c19-8915-79e09a959936",
   "metadata": {},
   "source": [
    "#### 1) List >  Symbol [ ] , ordered, mutable Changeable), allow duplicates"
   ]
  },
  {
   "cell_type": "code",
   "execution_count": 16,
   "id": "a033ed03-bd9c-4a2d-b527-be1bc21bb524",
   "metadata": {},
   "outputs": [
    {
     "name": "stdout",
     "output_type": "stream",
     "text": [
      "This is my list: ['Foo', ['AI', 'ML', 'Cloud Computing'], 'Basketball', True, 'Kickboxing', 48, 'Basketball', 3.14]\n",
      "This is the type of my list:  <class 'list'>\n",
      "The value at index 1 in this list is ['AI', 'ML', 'Cloud Computing']\n",
      "This is the 2nd item in our nested list:  ML\n",
      "The list after modification is ['bar', ['AI', 'ML', 'Cloud Computing'], 'Basketball', True, 'Kickboxing', 48, 'Basketball', 3.14]\n",
      "Index of True in the list is 3\n",
      "This is how many times basketball has been stored in this list:  2\n",
      "This is the list after the new element is appended: ['bar', ['AI', 'ML', 'Cloud Computing'], 'Basketball', True, 'Kickboxing', 48, 'Basketball', 3.14, 'Yoda']\n",
      "This is the list after the new element is removed: ['bar', ['AI', 'ML', 'Cloud Computing'], 'Basketball', True, 'Kickboxing', 48, 'Basketball', 3.14]\n",
      "This is the list after reverse method being invoked on it: [3.14, 'Basketball', 48, 'Kickboxing', True, 'Basketball', ['AI', 'ML', 'Cloud Computing'], 'bar']\n"
     ]
    }
   ],
   "source": [
    "a_list = [\"Foo\", [\"AI\", \"ML\", \"Cloud Computing\"] ,\"Basketball\",True,\"Kickboxing\", 48, \"Basketball\",3.14]\n",
    "print(\"This is my list:\", a_list)\n",
    "print(\"This is the type of my list: \", type(a_list))\n",
    "\n",
    "# Support for Index   (because they are ordered!)\n",
    "print(f'The value at index 1 in this list is {a_list[1]}')\n",
    "\n",
    "# Support for accessing subset Lists\n",
    "print(\"This is the 2nd item in our nested list: \",a_list[1][1])\n",
    "\n",
    "# Support for mutability\n",
    "a_list[0] = \"bar\"\n",
    "print(f'The list after modification is {a_list}')\n",
    "\n",
    "# Important Methods\n",
    "\n",
    "# Get the index of an item\n",
    "desired_item = True\n",
    "print(f'Index of {item} in the list is {a_list.index(desired_item)}')\n",
    "\n",
    "# Count an item\n",
    "print(\"This is how many times basketball has been stored in this list: \", a_list.count(\"Basketball\"))\n",
    "\n",
    "\n",
    "# Append and remove an item\n",
    "a_list.append(\"Yoda\")\n",
    "print(f'This is the list after the new element is appended: {a_list}')\n",
    "a_list.remove(\"Yoda\")\n",
    "print(f'This is the list after the new element is removed: {a_list}')\n",
    "\n",
    "# Reverse the list\n",
    "a_list.reverse()\n",
    "print(f'This is the list after reverse method being invoked on it: {a_list}')\n",
    "\n",
    "\n"
   ]
  },
  {
   "cell_type": "markdown",
   "id": "64efa438-4da2-4297-87d0-894aecb0d005",
   "metadata": {},
   "source": [
    "#### Tuple >  Symbol  ( ), ordered, not mutable (not changeable), allow duplicates"
   ]
  },
  {
   "cell_type": "code",
   "execution_count": 16,
   "id": "7325e22a-0071-4b05-9e72-038d4e1d49f0",
   "metadata": {},
   "outputs": [
    {
     "name": "stdout",
     "output_type": "stream",
     "text": [
      "('Foo', 'Basketball', 'Soccer', 'Kickboxing', 48, 'Basketball')\n",
      "<class 'tuple'>\n",
      "The value at index 0 in this tuple is Foo\n"
     ]
    },
    {
     "ename": "TypeError",
     "evalue": "'tuple' object does not support item assignment",
     "output_type": "error",
     "traceback": [
      "\u001b[1;31m---------------------------------------------------------------------------\u001b[0m",
      "\u001b[1;31mTypeError\u001b[0m                                 Traceback (most recent call last)",
      "\u001b[1;32m<ipython-input-16-d5bf4d957792>\u001b[0m in \u001b[0;36m<module>\u001b[1;34m\u001b[0m\n\u001b[0;32m      7\u001b[0m \u001b[1;33m\u001b[0m\u001b[0m\n\u001b[0;32m      8\u001b[0m \u001b[1;31m# Support for mutability (since it's immutable, a recepie for TypeError! )\u001b[0m\u001b[1;33m\u001b[0m\u001b[1;33m\u001b[0m\u001b[1;33m\u001b[0m\u001b[0m\n\u001b[1;32m----> 9\u001b[1;33m \u001b[0ma_tuple\u001b[0m\u001b[1;33m[\u001b[0m\u001b[1;36m0\u001b[0m\u001b[1;33m]\u001b[0m \u001b[1;33m=\u001b[0m \u001b[1;34m\"bar\"\u001b[0m\u001b[1;33m\u001b[0m\u001b[1;33m\u001b[0m\u001b[0m\n\u001b[0m\u001b[0;32m     10\u001b[0m \u001b[0mprint\u001b[0m\u001b[1;33m(\u001b[0m\u001b[1;34mf'The list after modification is {a_list}'\u001b[0m\u001b[1;33m)\u001b[0m\u001b[1;33m\u001b[0m\u001b[1;33m\u001b[0m\u001b[0m\n\u001b[0;32m     11\u001b[0m \u001b[1;31m#\u001b[0m\u001b[1;33m\u001b[0m\u001b[1;33m\u001b[0m\u001b[1;33m\u001b[0m\u001b[0m\n",
      "\u001b[1;31mTypeError\u001b[0m: 'tuple' object does not support item assignment"
     ]
    }
   ],
   "source": [
    "a_tuple = (\"Foo\", \"Basketball\",\"Soccer\",\"Kickboxing\", 48, \"Basketball\")\n",
    "print(a_tuple)\n",
    "print(type(a_tuple))\n",
    "\n",
    "# Support for Index \n",
    "print(f'The value at index 0 in this tuple is {a_tuple[0]}')\n",
    "\n",
    "# Support for mutability (since it's immutable, a recepie for TypeError!)\n",
    "a_tuple[0] = \"bar\"\n",
    "print(f'The list after modification is {a_list}')\n",
    "#"
   ]
  },
  {
   "cell_type": "markdown",
   "id": "308fa961-8522-4cb4-9d93-c75442e2f20a",
   "metadata": {},
   "source": [
    "#### Set >  Symbol  { }, unordered, not mutable (not changeable), does not allow duplicates. Hence, fairly limited!"
   ]
  },
  {
   "cell_type": "code",
   "execution_count": 24,
   "id": "5574a81b-3a97-43b8-ae7a-5335496845d0",
   "metadata": {},
   "outputs": [
    {
     "name": "stdout",
     "output_type": "stream",
     "text": [
      "{16, 18, 12, 'Apple'}\n",
      "<class 'set'>\n"
     ]
    },
    {
     "ename": "TypeError",
     "evalue": "'set' object is not subscriptable",
     "output_type": "error",
     "traceback": [
      "\u001b[1;31m---------------------------------------------------------------------------\u001b[0m",
      "\u001b[1;31mTypeError\u001b[0m                                 Traceback (most recent call last)",
      "\u001b[1;32m<ipython-input-24-a30ee49096f1>\u001b[0m in \u001b[0;36m<module>\u001b[1;34m\u001b[0m\n\u001b[0;32m      3\u001b[0m \u001b[0mprint\u001b[0m\u001b[1;33m(\u001b[0m\u001b[0mtype\u001b[0m\u001b[1;33m(\u001b[0m\u001b[0ma_set\u001b[0m\u001b[1;33m)\u001b[0m\u001b[1;33m)\u001b[0m\u001b[1;33m\u001b[0m\u001b[1;33m\u001b[0m\u001b[0m\n\u001b[0;32m      4\u001b[0m \u001b[1;33m\u001b[0m\u001b[0m\n\u001b[1;32m----> 5\u001b[1;33m \u001b[0mprint\u001b[0m\u001b[1;33m(\u001b[0m\u001b[0ma_set\u001b[0m\u001b[1;33m[\u001b[0m\u001b[1;36m0\u001b[0m\u001b[1;33m]\u001b[0m\u001b[1;33m)\u001b[0m\u001b[1;33m\u001b[0m\u001b[1;33m\u001b[0m\u001b[0m\n\u001b[0m\u001b[0;32m      6\u001b[0m \u001b[1;33m\u001b[0m\u001b[0m\n",
      "\u001b[1;31mTypeError\u001b[0m: 'set' object is not subscriptable"
     ]
    }
   ],
   "source": [
    "a_set = {\"Apple\",\"Apple\",12,16,18}\n",
    "print(a_set)\n",
    "print(type(a_set))\n",
    "\n",
    "print(a_set[0]) \n",
    "\n"
   ]
  },
  {
   "cell_type": "markdown",
   "id": "cef167b2-3790-48ed-a44b-cea91ba9a997",
   "metadata": {},
   "source": [
    "#### Dict >  Symbol  { }, ordered, mutable , does not allow duplicates"
   ]
  },
  {
   "cell_type": "code",
   "execution_count": 37,
   "id": "5f7c184d-b4d5-4b29-8d9a-ffe86c1584aa",
   "metadata": {},
   "outputs": [
    {
     "name": "stdout",
     "output_type": "stream",
     "text": [
      "{'Name': 'William', 'LastName': 'Pourmajidi', 'Title': 'Instrcutor'}\n",
      " The value of Title as a key is Instrcutor\n",
      " The value of Name key after modification (which is the proof of mutability) is Coordinator\n"
     ]
    }
   ],
   "source": [
    "a_dict = {\n",
    "    \"Name\":\"William\",\n",
    "    \"LastName\":\"Pourmajidi\",\n",
    "    \"Title\":\"Instrcutor\"\n",
    "}\n",
    "\n",
    "print(a_dict)\n",
    "print(f' The value of Title as a key is {a_dict[\"Title\"]}')\n",
    "\n",
    "\n",
    "# Support for mutability\n",
    "a_dict[\"Title\"] = \"Coordinator\"\n",
    "\n",
    "print(f' The value of Name key after modification (which is the proof of mutability) is {a_dict[\"Title\"]}')\n",
    "\n"
   ]
  }
 ],
 "metadata": {
  "kernelspec": {
   "display_name": "Python 3",
   "language": "python",
   "name": "python3"
  },
  "language_info": {
   "codemirror_mode": {
    "name": "ipython",
    "version": 3
   },
   "file_extension": ".py",
   "mimetype": "text/x-python",
   "name": "python",
   "nbconvert_exporter": "python",
   "pygments_lexer": "ipython3",
   "version": "3.8.8"
  }
 },
 "nbformat": 4,
 "nbformat_minor": 5
}
